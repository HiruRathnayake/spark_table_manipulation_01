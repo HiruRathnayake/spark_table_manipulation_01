{
  "nbformat": 4,
  "nbformat_minor": 0,
  "metadata": {
    "colab": {
      "name": "spark_table_manipulation 01.ipynb",
      "provenance": [],
      "toc_visible": true,
      "authorship_tag": "ABX9TyOtQrHkEAoY89nGc9Ecp1G3",
      "include_colab_link": true
    },
    "kernelspec": {
      "display_name": "Python 3",
      "name": "python3"
    },
    "language_info": {
      "name": "python"
    }
  },
  "cells": [
    {
      "cell_type": "markdown",
      "metadata": {
        "id": "view-in-github",
        "colab_type": "text"
      },
      "source": [
        "<a href=\"https://colab.research.google.com/github/HiruRathnayake/spark_table_manipulation_01/blob/main/spark_table_manipulation_01.ipynb\" target=\"_parent\"><img src=\"https://colab.research.google.com/assets/colab-badge.svg\" alt=\"Open In Colab\"/></a>"
      ]
    },
    {
      "cell_type": "code",
      "metadata": {
        "colab": {
          "base_uri": "https://localhost:8080/"
        },
        "id": "8ycW8NAOsfjS",
        "outputId": "55df6935-2bc7-4941-e930-3621d3c3fef8"
      },
      "source": [
        "!pip install pyspark"
      ],
      "execution_count": null,
      "outputs": [
        {
          "output_type": "stream",
          "text": [
            "Collecting pyspark\n",
            "\u001b[?25l  Downloading https://files.pythonhosted.org/packages/45/b0/9d6860891ab14a39d4bddf80ba26ce51c2f9dc4805e5c6978ac0472c120a/pyspark-3.1.1.tar.gz (212.3MB)\n",
            "\u001b[K     |████████████████████████████████| 212.3MB 56kB/s \n",
            "\u001b[?25hCollecting py4j==0.10.9\n",
            "\u001b[?25l  Downloading https://files.pythonhosted.org/packages/9e/b6/6a4fb90cd235dc8e265a6a2067f2a2c99f0d91787f06aca4bcf7c23f3f80/py4j-0.10.9-py2.py3-none-any.whl (198kB)\n",
            "\u001b[K     |████████████████████████████████| 204kB 47.2MB/s \n",
            "\u001b[?25hBuilding wheels for collected packages: pyspark\n",
            "  Building wheel for pyspark (setup.py) ... \u001b[?25l\u001b[?25hdone\n",
            "  Created wheel for pyspark: filename=pyspark-3.1.1-py2.py3-none-any.whl size=212767604 sha256=c96b3e6a3290ed2c243268b7e31428908aafe576cb465e5b730df6bfbbad102a\n",
            "  Stored in directory: /root/.cache/pip/wheels/0b/90/c0/01de724414ef122bd05f056541fb6a0ecf47c7ca655f8b3c0f\n",
            "Successfully built pyspark\n",
            "Installing collected packages: py4j, pyspark\n",
            "Successfully installed py4j-0.10.9 pyspark-3.1.1\n"
          ],
          "name": "stdout"
        }
      ]
    },
    {
      "cell_type": "code",
      "metadata": {
        "id": "jr50YDUmsueI"
      },
      "source": [
        "from pyspark.sql import SparkSession\n",
        "\n",
        "spark = SparkSession.builder.getOrCreate()"
      ],
      "execution_count": null,
      "outputs": []
    },
    {
      "cell_type": "code",
      "metadata": {
        "colab": {
          "base_uri": "https://localhost:8080/"
        },
        "id": "eNP8bfoDs0np",
        "outputId": "f11bfeba-a9c3-4644-ec5e-b48d62e6ec88"
      },
      "source": [
        "from google.colab import drive\n",
        "drive.mount(\"/content/gdrive\")"
      ],
      "execution_count": null,
      "outputs": [
        {
          "output_type": "stream",
          "text": [
            "Mounted at /content/gdrive\n"
          ],
          "name": "stdout"
        }
      ]
    },
    {
      "cell_type": "code",
      "metadata": {
        "colab": {
          "base_uri": "https://localhost:8080/"
        },
        "id": "xuA9tZVgqtSD",
        "outputId": "55a71084-81de-4fab-ccbd-9ae0a47161e9"
      },
      "source": [
        "drive.mount(\"/content/gdrive\", force_remount=True)"
      ],
      "execution_count": null,
      "outputs": [
        {
          "output_type": "stream",
          "text": [
            "Mounted at /content/gdrive\n"
          ],
          "name": "stdout"
        }
      ]
    },
    {
      "cell_type": "code",
      "metadata": {
        "colab": {
          "base_uri": "https://localhost:8080/",
          "height": 800
        },
        "id": "MYN1hSjltneG",
        "outputId": "1e89ad4f-f673-4eb4-e28d-53af74afe9d1"
      },
      "source": [
        "import pandas as pd\n",
        "df = pd.read_csv('/content/gdrive/My Drive/dataset/sales.csv')\n",
        "df.head(10)"
      ],
      "execution_count": null,
      "outputs": [
        {
          "output_type": "stream",
          "text": [
            "/usr/local/lib/python3.7/dist-packages/IPython/core/interactiveshell.py:2718: DtypeWarning: Columns (1) have mixed types.Specify dtype option on import or set low_memory=False.\n",
            "  interactivity=interactivity, compiler=compiler, result=result)\n"
          ],
          "name": "stderr"
        },
        {
          "output_type": "execute_result",
          "data": {
            "text/html": [
              "<div>\n",
              "<style scoped>\n",
              "    .dataframe tbody tr th:only-of-type {\n",
              "        vertical-align: middle;\n",
              "    }\n",
              "\n",
              "    .dataframe tbody tr th {\n",
              "        vertical-align: top;\n",
              "    }\n",
              "\n",
              "    .dataframe thead th {\n",
              "        text-align: right;\n",
              "    }\n",
              "</style>\n",
              "<table border=\"1\" class=\"dataframe\">\n",
              "  <thead>\n",
              "    <tr style=\"text-align: right;\">\n",
              "      <th></th>\n",
              "      <th>date</th>\n",
              "      <th>convenience_store</th>\n",
              "      <th>store</th>\n",
              "      <th>county_number</th>\n",
              "      <th>county</th>\n",
              "      <th>category</th>\n",
              "      <th>category_name</th>\n",
              "      <th>vendor_no</th>\n",
              "      <th>vendor</th>\n",
              "      <th>item</th>\n",
              "      <th>description</th>\n",
              "      <th>pack</th>\n",
              "      <th>liter_size</th>\n",
              "      <th>state_btl_cost</th>\n",
              "      <th>btl_price</th>\n",
              "      <th>bottle_qty</th>\n",
              "      <th>total</th>\n",
              "    </tr>\n",
              "  </thead>\n",
              "  <tbody>\n",
              "    <tr>\n",
              "      <th>0</th>\n",
              "      <td>2014-11-13 00:00:00</td>\n",
              "      <td>NaN</td>\n",
              "      <td>2635</td>\n",
              "      <td>82</td>\n",
              "      <td>Scott</td>\n",
              "      <td>1032200.0</td>\n",
              "      <td>IMPORTED VODKA - MISC</td>\n",
              "      <td>370</td>\n",
              "      <td>Pernod Ricard USA/Austin Nichols</td>\n",
              "      <td>34036</td>\n",
              "      <td>Absolut Pears</td>\n",
              "      <td>12</td>\n",
              "      <td>750</td>\n",
              "      <td>$11.49</td>\n",
              "      <td>$17.24</td>\n",
              "      <td>4</td>\n",
              "      <td>68.96</td>\n",
              "    </tr>\n",
              "    <tr>\n",
              "      <th>1</th>\n",
              "      <td>2014-11-13 00:00:00</td>\n",
              "      <td>NaN</td>\n",
              "      <td>2635</td>\n",
              "      <td>82</td>\n",
              "      <td>Scott</td>\n",
              "      <td>1032200.0</td>\n",
              "      <td>IMPORTED VODKA - MISC</td>\n",
              "      <td>370</td>\n",
              "      <td>Pernod Ricard USA/Austin Nichols</td>\n",
              "      <td>34076</td>\n",
              "      <td>Absolut Vanilia</td>\n",
              "      <td>12</td>\n",
              "      <td>750</td>\n",
              "      <td>$11.49</td>\n",
              "      <td>$17.24</td>\n",
              "      <td>12</td>\n",
              "      <td>206.88</td>\n",
              "    </tr>\n",
              "    <tr>\n",
              "      <th>2</th>\n",
              "      <td>2014-11-13 00:00:00</td>\n",
              "      <td>NaN</td>\n",
              "      <td>2635</td>\n",
              "      <td>82</td>\n",
              "      <td>Scott</td>\n",
              "      <td>1032200.0</td>\n",
              "      <td>IMPORTED VODKA - MISC</td>\n",
              "      <td>370</td>\n",
              "      <td>Pernod Ricard USA/Austin Nichols</td>\n",
              "      <td>34116</td>\n",
              "      <td>Absolut Mandrin</td>\n",
              "      <td>12</td>\n",
              "      <td>750</td>\n",
              "      <td>$11.49</td>\n",
              "      <td>$17.24</td>\n",
              "      <td>12</td>\n",
              "      <td>206.88</td>\n",
              "    </tr>\n",
              "    <tr>\n",
              "      <th>3</th>\n",
              "      <td>2014-11-13 00:00:00</td>\n",
              "      <td>NaN</td>\n",
              "      <td>2635</td>\n",
              "      <td>82</td>\n",
              "      <td>Scott</td>\n",
              "      <td>1032080.0</td>\n",
              "      <td>IMPORTED VODKA</td>\n",
              "      <td>420</td>\n",
              "      <td>Moet Hennessy USA Inc.</td>\n",
              "      <td>34155</td>\n",
              "      <td>Belvedere Vodka</td>\n",
              "      <td>6</td>\n",
              "      <td>750</td>\n",
              "      <td>$17.15</td>\n",
              "      <td>$25.73</td>\n",
              "      <td>6</td>\n",
              "      <td>154.38</td>\n",
              "    </tr>\n",
              "    <tr>\n",
              "      <th>4</th>\n",
              "      <td>2014-11-13 00:00:00</td>\n",
              "      <td>NaN</td>\n",
              "      <td>2635</td>\n",
              "      <td>82</td>\n",
              "      <td>Scott</td>\n",
              "      <td>1032080.0</td>\n",
              "      <td>IMPORTED VODKA</td>\n",
              "      <td>260</td>\n",
              "      <td>Diageo Americas</td>\n",
              "      <td>34164</td>\n",
              "      <td>Ciroc Luxury Vodka</td>\n",
              "      <td>24</td>\n",
              "      <td>200</td>\n",
              "      <td>$5.00</td>\n",
              "      <td>$7.50</td>\n",
              "      <td>6</td>\n",
              "      <td>45.00</td>\n",
              "    </tr>\n",
              "    <tr>\n",
              "      <th>5</th>\n",
              "      <td>2014-11-13 00:00:00</td>\n",
              "      <td>NaN</td>\n",
              "      <td>2635</td>\n",
              "      <td>82</td>\n",
              "      <td>Scott</td>\n",
              "      <td>1032200.0</td>\n",
              "      <td>IMPORTED VODKA - MISC</td>\n",
              "      <td>370</td>\n",
              "      <td>Pernod Ricard USA/Austin Nichols</td>\n",
              "      <td>34190</td>\n",
              "      <td>Absolut Cherrykran</td>\n",
              "      <td>12</td>\n",
              "      <td>750</td>\n",
              "      <td>$11.49</td>\n",
              "      <td>$17.24</td>\n",
              "      <td>12</td>\n",
              "      <td>206.88</td>\n",
              "    </tr>\n",
              "    <tr>\n",
              "      <th>6</th>\n",
              "      <td>2014-11-13 00:00:00</td>\n",
              "      <td>NaN</td>\n",
              "      <td>2635</td>\n",
              "      <td>82</td>\n",
              "      <td>Scott</td>\n",
              "      <td>1032080.0</td>\n",
              "      <td>IMPORTED VODKA</td>\n",
              "      <td>85</td>\n",
              "      <td>Brown-Forman Corporation</td>\n",
              "      <td>34326</td>\n",
              "      <td>Finlandia Imp Vodka 80prf</td>\n",
              "      <td>12</td>\n",
              "      <td>750</td>\n",
              "      <td>$8.57</td>\n",
              "      <td>$12.86</td>\n",
              "      <td>12</td>\n",
              "      <td>154.32</td>\n",
              "    </tr>\n",
              "    <tr>\n",
              "      <th>7</th>\n",
              "      <td>2014-11-13 00:00:00</td>\n",
              "      <td>NaN</td>\n",
              "      <td>2635</td>\n",
              "      <td>82</td>\n",
              "      <td>Scott</td>\n",
              "      <td>1032080.0</td>\n",
              "      <td>IMPORTED VODKA</td>\n",
              "      <td>35</td>\n",
              "      <td>Bacardi U.S.A. Inc.</td>\n",
              "      <td>34423</td>\n",
              "      <td>Grey Goose Vodka</td>\n",
              "      <td>12</td>\n",
              "      <td>375</td>\n",
              "      <td>$9.00</td>\n",
              "      <td>$13.50</td>\n",
              "      <td>4</td>\n",
              "      <td>54.00</td>\n",
              "    </tr>\n",
              "    <tr>\n",
              "      <th>8</th>\n",
              "      <td>2014-11-13 00:00:00</td>\n",
              "      <td>NaN</td>\n",
              "      <td>2635</td>\n",
              "      <td>82</td>\n",
              "      <td>Scott</td>\n",
              "      <td>1032080.0</td>\n",
              "      <td>IMPORTED VODKA</td>\n",
              "      <td>35</td>\n",
              "      <td>Bacardi U.S.A. Inc.</td>\n",
              "      <td>34433</td>\n",
              "      <td>Grey Goose Vodka</td>\n",
              "      <td>12</td>\n",
              "      <td>750</td>\n",
              "      <td>$18.49</td>\n",
              "      <td>$27.74</td>\n",
              "      <td>12</td>\n",
              "      <td>332.88</td>\n",
              "    </tr>\n",
              "    <tr>\n",
              "      <th>9</th>\n",
              "      <td>2014-11-13 00:00:00</td>\n",
              "      <td>NaN</td>\n",
              "      <td>2635</td>\n",
              "      <td>82</td>\n",
              "      <td>Scott</td>\n",
              "      <td>1032080.0</td>\n",
              "      <td>IMPORTED VODKA</td>\n",
              "      <td>260</td>\n",
              "      <td>Diageo Americas</td>\n",
              "      <td>34456</td>\n",
              "      <td>Ketel One Imported Vodka</td>\n",
              "      <td>12</td>\n",
              "      <td>750</td>\n",
              "      <td>$14.00</td>\n",
              "      <td>$21.00</td>\n",
              "      <td>12</td>\n",
              "      <td>252.00</td>\n",
              "    </tr>\n",
              "  </tbody>\n",
              "</table>\n",
              "</div>"
            ],
            "text/plain": [
              "                  date convenience_store  store  ...  btl_price bottle_qty   total\n",
              "0  2014-11-13 00:00:00               NaN   2635  ...     $17.24          4   68.96\n",
              "1  2014-11-13 00:00:00               NaN   2635  ...     $17.24         12  206.88\n",
              "2  2014-11-13 00:00:00               NaN   2635  ...     $17.24         12  206.88\n",
              "3  2014-11-13 00:00:00               NaN   2635  ...     $25.73          6  154.38\n",
              "4  2014-11-13 00:00:00               NaN   2635  ...      $7.50          6   45.00\n",
              "5  2014-11-13 00:00:00               NaN   2635  ...     $17.24         12  206.88\n",
              "6  2014-11-13 00:00:00               NaN   2635  ...     $12.86         12  154.32\n",
              "7  2014-11-13 00:00:00               NaN   2635  ...     $13.50          4   54.00\n",
              "8  2014-11-13 00:00:00               NaN   2635  ...     $27.74         12  332.88\n",
              "9  2014-11-13 00:00:00               NaN   2635  ...     $21.00         12  252.00\n",
              "\n",
              "[10 rows x 17 columns]"
            ]
          },
          "metadata": {
            "tags": []
          },
          "execution_count": 12
        }
      ]
    },
    {
      "cell_type": "markdown",
      "metadata": {
        "id": "ktfCqpZK1APZ"
      },
      "source": [
        "# New Section"
      ]
    },
    {
      "cell_type": "code",
      "metadata": {
        "colab": {
          "base_uri": "https://localhost:8080/"
        },
        "id": "NEEOabRXomp6",
        "outputId": "3179392f-f079-40ce-d703-5f7db61ec73a"
      },
      "source": [
        "import pyspark\n",
        "from pyspark.sql.session import SparkSession\n",
        "spark = spark.builder.getOrCreate()\n",
        "path = \"/content/gdrive/My Drive/dataset/sales.csv\"\n",
        "df = spark.read.format(\"csv\").option(\"header\",\"true\").option(\"inferSchema\",\"true\").load(path)\n",
        "df.select(\"date\").show(5)"
      ],
      "execution_count": null,
      "outputs": [
        {
          "output_type": "stream",
          "text": [
            "+-------------------+\n",
            "|               date|\n",
            "+-------------------+\n",
            "|2014-11-13 00:00:00|\n",
            "|2014-11-13 00:00:00|\n",
            "|2014-11-13 00:00:00|\n",
            "|2014-11-13 00:00:00|\n",
            "|2014-11-13 00:00:00|\n",
            "+-------------------+\n",
            "only showing top 5 rows\n",
            "\n"
          ],
          "name": "stdout"
        }
      ]
    },
    {
      "cell_type": "code",
      "metadata": {
        "colab": {
          "base_uri": "https://localhost:8080/"
        },
        "id": "xzCwAv3-yK5h",
        "outputId": "6e094509-c822-4382-8aea-1dc9c696e7f0"
      },
      "source": [
        "df.printSchema()"
      ],
      "execution_count": null,
      "outputs": [
        {
          "output_type": "stream",
          "text": [
            "root\n",
            " |-- date: string (nullable = true)\n",
            " |-- convenience_store: string (nullable = true)\n",
            " |-- store: integer (nullable = true)\n",
            " |-- county_number: integer (nullable = true)\n",
            " |-- county: string (nullable = true)\n",
            " |-- category: integer (nullable = true)\n",
            " |-- category_name: string (nullable = true)\n",
            " |-- vendor_no: integer (nullable = true)\n",
            " |-- vendor: string (nullable = true)\n",
            " |-- item: integer (nullable = true)\n",
            " |-- description: string (nullable = true)\n",
            " |-- pack: integer (nullable = true)\n",
            " |-- liter_size: integer (nullable = true)\n",
            " |-- state_btl_cost: string (nullable = true)\n",
            " |-- btl_price: string (nullable = true)\n",
            " |-- bottle_qty: integer (nullable = true)\n",
            " |-- total: double (nullable = true)\n",
            "\n"
          ],
          "name": "stdout"
        }
      ]
    },
    {
      "cell_type": "code",
      "metadata": {
        "id": "eqgGXcs3yNId"
      },
      "source": [
        "df3.createOrReplaceTempView(\"CastExample\")"
      ],
      "execution_count": null,
      "outputs": []
    },
    {
      "cell_type": "code",
      "metadata": {
        "colab": {
          "base_uri": "https://localhost:8080/"
        },
        "id": "2XcPadAbyj1F",
        "outputId": "47c2394a-b1f8-46b7-f4be-85d401a7699a"
      },
      "source": [
        "df.withColumn(\"total\",df.total*100)"
      ],
      "execution_count": null,
      "outputs": [
        {
          "output_type": "execute_result",
          "data": {
            "text/plain": [
              "DataFrame[date: string, convenience_store: string, store: int, county_number: int, county: string, category: int, category_name: string, vendor_no: int, vendor: string, item: int, description: string, pack: int, liter_size: int, state_btl_cost: string, btl_price: string, bottle_qty: int, total: double]"
            ]
          },
          "metadata": {
            "tags": []
          },
          "execution_count": 137
        }
      ]
    },
    {
      "cell_type": "code",
      "metadata": {
        "colab": {
          "base_uri": "https://localhost:8080/"
        },
        "id": "1ZiuAusp44rK",
        "outputId": "9488ce5f-6e55-4816-82fc-2db5d17900f0"
      },
      "source": [
        "df.select(\"pack\").show(5)"
      ],
      "execution_count": null,
      "outputs": [
        {
          "output_type": "stream",
          "text": [
            "+----+\n",
            "|pack|\n",
            "+----+\n",
            "|  12|\n",
            "|  12|\n",
            "|  12|\n",
            "|   6|\n",
            "|  24|\n",
            "+----+\n",
            "only showing top 5 rows\n",
            "\n"
          ],
          "name": "stdout"
        }
      ]
    },
    {
      "cell_type": "code",
      "metadata": {
        "colab": {
          "base_uri": "https://localhost:8080/"
        },
        "id": "XNBkHDtf5JnU",
        "outputId": "46229c3a-0abc-44f0-fae9-361231a6eb7e"
      },
      "source": [
        "df = df.withColumn(\"pack\",(df.pack)/100)\n",
        "df.select(\"pack\").show(5)"
      ],
      "execution_count": null,
      "outputs": [
        {
          "output_type": "stream",
          "text": [
            "+----+\n",
            "|pack|\n",
            "+----+\n",
            "|12.0|\n",
            "|12.0|\n",
            "|12.0|\n",
            "| 6.0|\n",
            "|24.0|\n",
            "+----+\n",
            "only showing top 5 rows\n",
            "\n"
          ],
          "name": "stdout"
        }
      ]
    },
    {
      "cell_type": "code",
      "metadata": {
        "id": "Cushy5zy5Mik"
      },
      "source": [
        "df = df.withColumn(\"convenience_store\",(df.convenience_store).cast(\"Integer\"))"
      ],
      "execution_count": null,
      "outputs": []
    },
    {
      "cell_type": "code",
      "metadata": {
        "colab": {
          "base_uri": "https://localhost:8080/"
        },
        "id": "2_SiLxz38DPA",
        "outputId": "a8e3e773-14a4-4d55-8909-ab77d1e41bba"
      },
      "source": [
        "df.printSchema()"
      ],
      "execution_count": null,
      "outputs": [
        {
          "output_type": "stream",
          "text": [
            "root\n",
            " |-- date: string (nullable = true)\n",
            " |-- convenience_store: integer (nullable = true)\n",
            " |-- store: integer (nullable = true)\n",
            " |-- county_number: integer (nullable = true)\n",
            " |-- county: string (nullable = true)\n",
            " |-- category: integer (nullable = true)\n",
            " |-- category_name: string (nullable = true)\n",
            " |-- vendor_no: integer (nullable = true)\n",
            " |-- vendor: string (nullable = true)\n",
            " |-- item: integer (nullable = true)\n",
            " |-- description: string (nullable = true)\n",
            " |-- pack: double (nullable = true)\n",
            " |-- liter_size: integer (nullable = true)\n",
            " |-- state_btl_cost: string (nullable = true)\n",
            " |-- btl_price: string (nullable = true)\n",
            " |-- bottle_qty: integer (nullable = true)\n",
            " |-- total: double (nullable = true)\n",
            "\n"
          ],
          "name": "stdout"
        }
      ]
    },
    {
      "cell_type": "code",
      "metadata": {
        "colab": {
          "base_uri": "https://localhost:8080/"
        },
        "id": "wuYVZZd2Anko",
        "outputId": "426bf7f9-8a42-41a1-ab92-f1d1908fa512"
      },
      "source": [
        "df = df.withColumn('pack_liter_size',df.pack * df.liter_size)\n",
        "df.printSchema()"
      ],
      "execution_count": null,
      "outputs": [
        {
          "output_type": "stream",
          "text": [
            "root\n",
            " |-- date: string (nullable = true)\n",
            " |-- convenience_store: integer (nullable = true)\n",
            " |-- store: integer (nullable = true)\n",
            " |-- county_number: integer (nullable = true)\n",
            " |-- county: string (nullable = true)\n",
            " |-- category: integer (nullable = true)\n",
            " |-- category_name: string (nullable = true)\n",
            " |-- vendor_no: integer (nullable = true)\n",
            " |-- vendor: string (nullable = true)\n",
            " |-- item: integer (nullable = true)\n",
            " |-- description: string (nullable = true)\n",
            " |-- pack: double (nullable = true)\n",
            " |-- liter_size: integer (nullable = true)\n",
            " |-- state_btl_cost: string (nullable = true)\n",
            " |-- btl_price: string (nullable = true)\n",
            " |-- bottle_qty: integer (nullable = true)\n",
            " |-- total: double (nullable = true)\n",
            " |-- pack_liter_size: double (nullable = true)\n",
            "\n"
          ],
          "name": "stdout"
        }
      ]
    },
    {
      "cell_type": "code",
      "metadata": {
        "colab": {
          "base_uri": "https://localhost:8080/"
        },
        "id": "Cls238VFCzeN",
        "outputId": "7559fb5b-0bde-4ad7-ec89-59374497c399"
      },
      "source": [
        "df = df.drop(\"pack_liter_size\")\n",
        "df.printSchema()"
      ],
      "execution_count": null,
      "outputs": [
        {
          "output_type": "stream",
          "text": [
            "root\n",
            " |-- date: string (nullable = true)\n",
            " |-- convenience_store: string (nullable = true)\n",
            " |-- store: integer (nullable = true)\n",
            " |-- county_number: integer (nullable = true)\n",
            " |-- county: string (nullable = true)\n",
            " |-- category: integer (nullable = true)\n",
            " |-- category_name: string (nullable = true)\n",
            " |-- vendor_no: integer (nullable = true)\n",
            " |-- vendor: string (nullable = true)\n",
            " |-- item: integer (nullable = true)\n",
            " |-- description: string (nullable = true)\n",
            " |-- pack: integer (nullable = true)\n",
            " |-- liter_size: integer (nullable = true)\n",
            " |-- state_btl_cost: string (nullable = true)\n",
            " |-- btl_price: string (nullable = true)\n",
            " |-- bottle_qty: integer (nullable = true)\n",
            " |-- total: double (nullable = true)\n",
            "\n"
          ],
          "name": "stdout"
        }
      ]
    },
    {
      "cell_type": "code",
      "metadata": {
        "colab": {
          "base_uri": "https://localhost:8080/"
        },
        "id": "_vLON-N7DDLN",
        "outputId": "95253f83-6888-4eea-fc99-db5ccef789f0"
      },
      "source": [
        "df = df.withColumnRenamed(\"liter_size\",\"LiterSize\").withColumnRenamed(\"county_number\",\"CountryNo\")\n",
        "df.printSchema()\n"
      ],
      "execution_count": null,
      "outputs": [
        {
          "output_type": "stream",
          "text": [
            "root\n",
            " |-- date: string (nullable = true)\n",
            " |-- convenience_store: string (nullable = true)\n",
            " |-- store: integer (nullable = true)\n",
            " |-- CountryNo: integer (nullable = true)\n",
            " |-- county: string (nullable = true)\n",
            " |-- category: integer (nullable = true)\n",
            " |-- category_name: string (nullable = true)\n",
            " |-- vendor_no: integer (nullable = true)\n",
            " |-- vendor: string (nullable = true)\n",
            " |-- item: integer (nullable = true)\n",
            " |-- description: string (nullable = true)\n",
            " |-- pack: integer (nullable = true)\n",
            " |-- LiterSize: integer (nullable = true)\n",
            " |-- state_btl_cost: string (nullable = true)\n",
            " |-- btl_price: string (nullable = true)\n",
            " |-- bottle_qty: integer (nullable = true)\n",
            " |-- total: double (nullable = true)\n",
            "\n"
          ],
          "name": "stdout"
        }
      ]
    },
    {
      "cell_type": "code",
      "metadata": {
        "colab": {
          "base_uri": "https://localhost:8080/"
        },
        "id": "odf9oRbBd9m9",
        "outputId": "4652f935-a174-426b-f35e-e3c969cd2d99"
      },
      "source": [
        "df = df.withColumnRenamed('county_number', 'county_no')\n",
        "df.printSchema()"
      ],
      "execution_count": null,
      "outputs": [
        {
          "output_type": "stream",
          "text": [
            "root\n",
            " |-- date: string (nullable = true)\n",
            " |-- convenience_store: string (nullable = true)\n",
            " |-- store: integer (nullable = true)\n",
            " |-- county_no: integer (nullable = true)\n",
            " |-- county: string (nullable = true)\n",
            " |-- category: integer (nullable = true)\n",
            " |-- category_name: string (nullable = true)\n",
            " |-- vendor_no: integer (nullable = true)\n",
            " |-- vendor: string (nullable = true)\n",
            " |-- item: integer (nullable = true)\n",
            " |-- description: string (nullable = true)\n",
            " |-- pack: integer (nullable = true)\n",
            " |-- liter_size: integer (nullable = true)\n",
            " |-- state_btl_cost: string (nullable = true)\n",
            " |-- btl_price: string (nullable = true)\n",
            " |-- bottle_qty: integer (nullable = true)\n",
            " |-- total: double (nullable = true)\n",
            "\n"
          ],
          "name": "stdout"
        }
      ]
    },
    {
      "cell_type": "code",
      "metadata": {
        "colab": {
          "base_uri": "https://localhost:8080/"
        },
        "id": "Xg0HGFbkecJ9",
        "outputId": "caae06a9-2f67-4358-f93d-4c2c4e30cd41"
      },
      "source": [
        "df = df.withColumnRenamed(\"county_no\",\"CountryNo\").withColumnRenamed(\"liter_size\",\"LiterSize\")\n",
        "df.printSchema()"
      ],
      "execution_count": null,
      "outputs": [
        {
          "output_type": "stream",
          "text": [
            "root\n",
            " |-- date: string (nullable = true)\n",
            " |-- convenience_store: string (nullable = true)\n",
            " |-- store: integer (nullable = true)\n",
            " |-- CountryNo: integer (nullable = true)\n",
            " |-- county: string (nullable = true)\n",
            " |-- category: integer (nullable = true)\n",
            " |-- category_name: string (nullable = true)\n",
            " |-- vendor_no: integer (nullable = true)\n",
            " |-- vendor: string (nullable = true)\n",
            " |-- item: integer (nullable = true)\n",
            " |-- description: string (nullable = true)\n",
            " |-- pack: integer (nullable = true)\n",
            " |-- LiterSize: integer (nullable = true)\n",
            " |-- state_btl_cost: string (nullable = true)\n",
            " |-- btl_price: string (nullable = true)\n",
            " |-- bottle_qty: integer (nullable = true)\n",
            " |-- total: double (nullable = true)\n",
            "\n"
          ],
          "name": "stdout"
        }
      ]
    },
    {
      "cell_type": "code",
      "metadata": {
        "colab": {
          "base_uri": "https://localhost:8080/"
        },
        "id": "ZgV7i30CiBeg",
        "outputId": "2b60d524-adb7-41bd-a18d-8f54bbe10b25"
      },
      "source": [
        "#Create DataFrame df1 with columns name,dept & age\n",
        "import pandas as pd\n",
        "from pyspark.sql import Row\n",
        "\n",
        "df1 = spark.createDataFrame([\n",
        "    Row(name=\"Janaka\", dept=\"Sales\", age=34),\n",
        "    Row(name=\"Malaka\", dept=\"Sales\", age=30),\n",
        "    Row(name=\"Naduni\", dept=\"Sales\", age=56),\n",
        "    Row(name=\"Sarala\", dept=\"Finance\", age=24)\n",
        "])\n",
        "df1\n",
        "df1.printSchema()\n"
      ],
      "execution_count": null,
      "outputs": [
        {
          "output_type": "stream",
          "text": [
            "root\n",
            " |-- name: string (nullable = true)\n",
            " |-- dept: string (nullable = true)\n",
            " |-- age: long (nullable = true)\n",
            "\n"
          ],
          "name": "stdout"
        }
      ]
    },
    {
      "cell_type": "code",
      "metadata": {
        "colab": {
          "base_uri": "https://localhost:8080/"
        },
        "id": "pJyvPjUPjT9m",
        "outputId": "5bda91ea-c7cf-43bd-9ff7-9f6e645516fb"
      },
      "source": [
        "#Create DataFrame df2 with columns name,dep,status & salary\n",
        "df2 = spark.createDataFrame([\n",
        "    Row(name=\" Janaka \", dept=\"Sales\", status=\"Single\", salary=9000),\n",
        "    Row(name=\"Sagara\", dept=\"Finance\", status =\" Single \", salary=7900),\n",
        "    Row(name=\" Sarala\", dept=\"Finance\", status =\"Married\", salary=9000),\n",
        "    Row(name=\"Saman\", dept=\"Marketing\", status =\" Married \", salary=8000)\n",
        "])\n",
        "df2\n",
        "df2.printSchema()\n"
      ],
      "execution_count": null,
      "outputs": [
        {
          "output_type": "stream",
          "text": [
            "root\n",
            " |-- name: string (nullable = true)\n",
            " |-- dept: string (nullable = true)\n",
            " |-- status: string (nullable = true)\n",
            " |-- salary: long (nullable = true)\n",
            "\n"
          ],
          "name": "stdout"
        }
      ]
    },
    {
      "cell_type": "code",
      "metadata": {
        "id": "W8FyyOANkeKn"
      },
      "source": [
        "#Add missing columns 'state' & 'salary' to df1\n",
        "from pyspark.sql.functions import lit\n",
        "for column in [column for column in df2.columns if column not in df1.columns]:\n",
        "    df1 = df1.withColumn(column, lit(None))\n",
        "\n",
        "#Add missing column 'age' to df2\n",
        "for column in [column for column in df1.columns if column not in df2.columns]:\n",
        "    df2 = df2.withColumn(column, lit(None))"
      ],
      "execution_count": null,
      "outputs": []
    },
    {
      "cell_type": "code",
      "metadata": {
        "colab": {
          "base_uri": "https://localhost:8080/"
        },
        "id": "8hjNbbJkkQov",
        "outputId": "b815c4cb-ba82-43a2-9999-235fe064d5c6"
      },
      "source": [
        "merged_df=df1.unionByName(df2)\n",
        "merged_df.show()"
      ],
      "execution_count": null,
      "outputs": [
        {
          "output_type": "stream",
          "text": [
            "+--------+---------+----+---------+------+\n",
            "|    name|     dept| age|   status|salary|\n",
            "+--------+---------+----+---------+------+\n",
            "|  Janaka|    Sales|  34|     null|  null|\n",
            "|  Malaka|    Sales|  30|     null|  null|\n",
            "|  Naduni|    Sales|  56|     null|  null|\n",
            "|  Sarala|  Finance|  24|     null|  null|\n",
            "| Janaka |    Sales|null|   Single|  9000|\n",
            "|  Sagara|  Finance|null|  Single |  7900|\n",
            "|  Sarala|  Finance|null|  Married|  9000|\n",
            "|   Saman|Marketing|null| Married |  8000|\n",
            "+--------+---------+----+---------+------+\n",
            "\n"
          ],
          "name": "stdout"
        }
      ]
    },
    {
      "cell_type": "code",
      "metadata": {
        "id": "f7mTRIqcrCiY"
      },
      "source": [
        "CREATE OR REPLACE VIEW experienced_employee\n",
        "    (ID COMMENT 'Unique identification number', Name) \n",
        "    COMMENT 'View for experienced employees'\n",
        "    AS SELECT id, name FROM all_employee\n",
        "        WHERE working_years > 5;"
      ],
      "execution_count": null,
      "outputs": []
    },
    {
      "cell_type": "code",
      "metadata": {
        "colab": {
          "base_uri": "https://localhost:8080/"
        },
        "id": "QnBa9L10wbZt",
        "outputId": "ea66bef5-0750-46a0-cb7b-f10e425a58f8"
      },
      "source": [
        "split_col = pyspark.sql.functions.split(df['date'], '-')\n",
        "df = df.withColumn('Year', split_col.getItem(0))\n",
        "df = df.withColumn('Month', split_col.getItem(1))\n",
        "df.select(\"date\",\"Year\",\"Month\").show(5)\n"
      ],
      "execution_count": null,
      "outputs": [
        {
          "output_type": "stream",
          "text": [
            "+-------------------+----+-----+\n",
            "|               date|Year|Month|\n",
            "+-------------------+----+-----+\n",
            "|2014-11-13 00:00:00|2014|   11|\n",
            "|2014-11-13 00:00:00|2014|   11|\n",
            "|2014-11-13 00:00:00|2014|   11|\n",
            "|2014-11-13 00:00:00|2014|   11|\n",
            "|2014-11-13 00:00:00|2014|   11|\n",
            "+-------------------+----+-----+\n",
            "only showing top 5 rows\n",
            "\n"
          ],
          "name": "stdout"
        }
      ]
    }
  ]
}