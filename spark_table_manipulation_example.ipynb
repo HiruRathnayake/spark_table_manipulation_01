{
  "nbformat": 4,
  "nbformat_minor": 0,
  "metadata": {
    "colab": {
      "name": "spark_table_manipulation_example",
      "provenance": [],
      "collapsed_sections": [],
      "authorship_tag": "ABX9TyMoUNsR+oEfYXrdXfgHQ2j8",
      "include_colab_link": true
    },
    "kernelspec": {
      "name": "python3",
      "display_name": "Python 3"
    },
    "language_info": {
      "name": "python"
    }
  },
  "cells": [
    {
      "cell_type": "markdown",
      "metadata": {
        "id": "view-in-github",
        "colab_type": "text"
      },
      "source": [
        "<a href=\"https://colab.research.google.com/github/HiruRathnayake/spark_table_manipulation_01/blob/main/spark_table_manipulation_example.ipynb\" target=\"_parent\"><img src=\"https://colab.research.google.com/assets/colab-badge.svg\" alt=\"Open In Colab\"/></a>"
      ]
    },
    {
      "cell_type": "code",
      "metadata": {
        "colab": {
          "base_uri": "https://localhost:8080/"
        },
        "id": "GATiqbq9E1na",
        "outputId": "760d8b4a-e7c9-4f1b-ad08-871874b3fcbb"
      },
      "source": [
        "!pip install pyspark"
      ],
      "execution_count": null,
      "outputs": [
        {
          "output_type": "stream",
          "text": [
            "Collecting pyspark\n",
            "\u001b[?25l  Downloading https://files.pythonhosted.org/packages/45/b0/9d6860891ab14a39d4bddf80ba26ce51c2f9dc4805e5c6978ac0472c120a/pyspark-3.1.1.tar.gz (212.3MB)\n",
            "\u001b[K     |████████████████████████████████| 212.3MB 70kB/s \n",
            "\u001b[?25hCollecting py4j==0.10.9\n",
            "\u001b[?25l  Downloading https://files.pythonhosted.org/packages/9e/b6/6a4fb90cd235dc8e265a6a2067f2a2c99f0d91787f06aca4bcf7c23f3f80/py4j-0.10.9-py2.py3-none-any.whl (198kB)\n",
            "\u001b[K     |████████████████████████████████| 204kB 35.0MB/s \n",
            "\u001b[?25hBuilding wheels for collected packages: pyspark\n",
            "  Building wheel for pyspark (setup.py) ... \u001b[?25l\u001b[?25hdone\n",
            "  Created wheel for pyspark: filename=pyspark-3.1.1-py2.py3-none-any.whl size=212767604 sha256=f28aa61e25b0288bdb0e196fbaac85c53113b4c2e93c67d8161f069c7d7581e9\n",
            "  Stored in directory: /root/.cache/pip/wheels/0b/90/c0/01de724414ef122bd05f056541fb6a0ecf47c7ca655f8b3c0f\n",
            "Successfully built pyspark\n",
            "Installing collected packages: py4j, pyspark\n",
            "Successfully installed py4j-0.10.9 pyspark-3.1.1\n"
          ],
          "name": "stdout"
        }
      ]
    },
    {
      "cell_type": "code",
      "metadata": {
        "id": "Tql9TNEaFIFe"
      },
      "source": [
        "from pyspark.sql import SparkSession\n",
        "\n",
        "spark = SparkSession.builder.getOrCreate()"
      ],
      "execution_count": null,
      "outputs": []
    },
    {
      "cell_type": "code",
      "metadata": {
        "colab": {
          "base_uri": "https://localhost:8080/"
        },
        "id": "T7AyTx3WFLxL",
        "outputId": "e3143a5c-b6f7-4af6-aa8d-e4c5712e1fcf"
      },
      "source": [
        "from google.colab import drive\n",
        "drive.mount(\"/content/gdrive\")"
      ],
      "execution_count": null,
      "outputs": [
        {
          "output_type": "stream",
          "text": [
            "Mounted at /content/gdrive\n"
          ],
          "name": "stdout"
        }
      ]
    },
    {
      "cell_type": "code",
      "metadata": {
        "colab": {
          "base_uri": "https://localhost:8080/"
        },
        "id": "ybgmVHEaFU62",
        "outputId": "aed0c4ef-95ff-4f5f-ef2d-70caaa11f004"
      },
      "source": [
        "drive.mount(\"/content/gdrive\", force_remount=True)"
      ],
      "execution_count": null,
      "outputs": [
        {
          "output_type": "stream",
          "text": [
            "Mounted at /content/gdrive\n"
          ],
          "name": "stdout"
        }
      ]
    },
    {
      "cell_type": "code",
      "metadata": {
        "colab": {
          "base_uri": "https://localhost:8080/"
        },
        "id": "vHtQ0jlIFeTJ",
        "outputId": "ea4fd6dd-6273-4fc3-9bba-8066f8393670"
      },
      "source": [
        "#Create DataFrame df1 with columns name,dept & age\n",
        "import pandas as pd\n",
        "from pyspark.sql import Row\n",
        "\n",
        "df1 = spark.createDataFrame([\n",
        "    Row(name=\"Janaka\", dept=\"Sales\", age=34),\n",
        "    Row(name=\"Malaka\", dept=\"Sales\", age=30),\n",
        "    Row(name=\"Naduni\", dept=\"Sales\", age=56),\n",
        "    Row(name=\"Sarala\", dept=\"Finance\", age=24)\n",
        "])\n",
        "df1\n",
        "df1.printSchema()"
      ],
      "execution_count": null,
      "outputs": [
        {
          "output_type": "stream",
          "text": [
            "root\n",
            " |-- name: string (nullable = true)\n",
            " |-- dept: string (nullable = true)\n",
            " |-- age: long (nullable = true)\n",
            "\n"
          ],
          "name": "stdout"
        }
      ]
    },
    {
      "cell_type": "code",
      "metadata": {
        "colab": {
          "base_uri": "https://localhost:8080/"
        },
        "id": "wK59Y-yEFnYY",
        "outputId": "1ddf9efa-0c25-4f4b-da95-1fd5cb0f71c3"
      },
      "source": [
        "#Create DataFrame df2 with columns name,dep,status & salary\n",
        "df2 = spark.createDataFrame([\n",
        "    Row(name=\" Janaka \", dept=\"Sales\", status=\"Single\", salary=9000),\n",
        "    Row(name=\"Sagara\", dept=\"Finance\", status =\" Single \", salary=7900),\n",
        "    Row(name=\" Sarala\", dept=\"Finance\", status =\"Married\", salary=9000),\n",
        "    Row(name=\"Saman\", dept=\"Marketing\", status =\" Married \", salary=8000)\n",
        "])\n",
        "df2\n",
        "df2.printSchema()"
      ],
      "execution_count": null,
      "outputs": [
        {
          "output_type": "stream",
          "text": [
            "root\n",
            " |-- name: string (nullable = true)\n",
            " |-- dept: string (nullable = true)\n",
            " |-- status: string (nullable = true)\n",
            " |-- salary: long (nullable = true)\n",
            "\n"
          ],
          "name": "stdout"
        }
      ]
    },
    {
      "cell_type": "code",
      "metadata": {
        "id": "2YwHZHV3FpRm"
      },
      "source": [
        "#Add missing columns 'state' & 'salary' to df1\n",
        "from pyspark.sql.functions import lit\n",
        "for column in [column for column in df2.columns if column not in df1.columns]:\n",
        "    df1 = df1.withColumn(column, lit(None))"
      ],
      "execution_count": null,
      "outputs": []
    },
    {
      "cell_type": "code",
      "metadata": {
        "id": "S9B3O-rAFuWP"
      },
      "source": [
        "#Add missing column 'age' to df2\n",
        "for column in [column for column in df1.columns if column not in df2.columns]:\n",
        "    df2 = df2.withColumn(column, lit(None))"
      ],
      "execution_count": null,
      "outputs": []
    },
    {
      "cell_type": "code",
      "metadata": {
        "colab": {
          "base_uri": "https://localhost:8080/"
        },
        "id": "yfT1Mv6yFxmr",
        "outputId": "ad22192b-9eb5-4de4-98e7-c8ebed5b5cc5"
      },
      "source": [
        "#Merge Two Data Frames \n",
        "merged_df=df1.unionByName(df2)\n",
        "merged_df.show()"
      ],
      "execution_count": null,
      "outputs": [
        {
          "output_type": "stream",
          "text": [
            "+--------+---------+----+---------+------+\n",
            "|    name|     dept| age|   status|salary|\n",
            "+--------+---------+----+---------+------+\n",
            "|  Janaka|    Sales|  34|     null|  null|\n",
            "|  Malaka|    Sales|  30|     null|  null|\n",
            "|  Naduni|    Sales|  56|     null|  null|\n",
            "|  Sarala|  Finance|  24|     null|  null|\n",
            "| Janaka |    Sales|null|   Single|  9000|\n",
            "|  Sagara|  Finance|null|  Single |  7900|\n",
            "|  Sarala|  Finance|null|  Married|  9000|\n",
            "|   Saman|Marketing|null| Married |  8000|\n",
            "+--------+---------+----+---------+------+\n",
            "\n"
          ],
          "name": "stdout"
        }
      ]
    },
    {
      "cell_type": "code",
      "metadata": {
        "id": "bFGOVdEjF1b0"
      },
      "source": [
        "#import dataset\n",
        "import pyspark\n",
        "from pyspark.sql.session import SparkSession\n",
        "spark = spark.builder.getOrCreate()\n",
        "path = \"/content/gdrive/My Drive/dataset/sales.csv\"\n",
        "df = spark.read.format(\"csv\").option(\"header\",\"true\").option(\"inferSchema\",\"true\").load(path)"
      ],
      "execution_count": null,
      "outputs": []
    },
    {
      "cell_type": "code",
      "metadata": {
        "colab": {
          "base_uri": "https://localhost:8080/"
        },
        "id": "2pZRHhbdF77h",
        "outputId": "a584e7cf-8f34-4c23-f47a-ccf53e8022ce"
      },
      "source": [
        "# Register the DataFrame as a global temporary view\n",
        "df.createGlobalTempView(\"salesTemp\")\n",
        "spark.sql(\"SELECT * FROM global_temp.salesTemp\").show()"
      ],
      "execution_count": null,
      "outputs": [
        {
          "output_type": "stream",
          "text": [
            "+-------------------+-----------------+-----+-------------+------+--------+--------------------+---------+--------------------+-----+--------------------+----+----------+--------------+---------+----------+------+\n",
            "|               date|convenience_store|store|county_number|county|category|       category_name|vendor_no|              vendor| item|         description|pack|liter_size|state_btl_cost|btl_price|bottle_qty| total|\n",
            "+-------------------+-----------------+-----+-------------+------+--------+--------------------+---------+--------------------+-----+--------------------+----+----------+--------------+---------+----------+------+\n",
            "|2014-11-13 00:00:00|             null| 2635|           82| Scott| 1032200|IMPORTED VODKA - ...|      370|Pernod Ricard USA...|34036|       Absolut Pears|  12|       750|        $11.49|   $17.24|         4| 68.96|\n",
            "|2014-11-13 00:00:00|             null| 2635|           82| Scott| 1032200|IMPORTED VODKA - ...|      370|Pernod Ricard USA...|34076|     Absolut Vanilia|  12|       750|        $11.49|   $17.24|        12|206.88|\n",
            "|2014-11-13 00:00:00|             null| 2635|           82| Scott| 1032200|IMPORTED VODKA - ...|      370|Pernod Ricard USA...|34116|     Absolut Mandrin|  12|       750|        $11.49|   $17.24|        12|206.88|\n",
            "|2014-11-13 00:00:00|             null| 2635|           82| Scott| 1032080|      IMPORTED VODKA|      420|Moet Hennessy USA...|34155|     Belvedere Vodka|   6|       750|        $17.15|   $25.73|         6|154.38|\n",
            "|2014-11-13 00:00:00|             null| 2635|           82| Scott| 1032080|      IMPORTED VODKA|      260|     Diageo Americas|34164|  Ciroc Luxury Vodka|  24|       200|         $5.00|    $7.50|         6|  45.0|\n",
            "|2014-11-13 00:00:00|             null| 2635|           82| Scott| 1032200|IMPORTED VODKA - ...|      370|Pernod Ricard USA...|34190|  Absolut Cherrykran|  12|       750|        $11.49|   $17.24|        12|206.88|\n",
            "|2014-11-13 00:00:00|             null| 2635|           82| Scott| 1032080|      IMPORTED VODKA|       85|Brown-Forman Corp...|34326|Finlandia Imp Vod...|  12|       750|         $8.57|   $12.86|        12|154.32|\n",
            "|2014-11-13 00:00:00|             null| 2635|           82| Scott| 1032080|      IMPORTED VODKA|       35| Bacardi U.S.A. Inc.|34423|    Grey Goose Vodka|  12|       375|         $9.00|   $13.50|         4|  54.0|\n",
            "|2014-11-13 00:00:00|             null| 2635|           82| Scott| 1032080|      IMPORTED VODKA|       35| Bacardi U.S.A. Inc.|34433|    Grey Goose Vodka|  12|       750|        $18.49|   $27.74|        12|332.88|\n",
            "|2014-11-13 00:00:00|             null| 2635|           82| Scott| 1032080|      IMPORTED VODKA|      260|     Diageo Americas|34456|Ketel One Importe...|  12|       750|        $14.00|   $21.00|        12| 252.0|\n",
            "|2014-11-13 00:00:00|             null| 2635|           82| Scott| 1032080|      IMPORTED VODKA|      267|Imperial Brands Inc.|34690|      Sobieski Vodka|  12|       750|         $6.50|    $9.75|        12| 117.0|\n",
            "|2014-11-13 00:00:00|             null| 2635|           82| Scott| 1032200|IMPORTED VODKA - ...|      370|Pernod Ricard USA...|35354| Absolut Mango Vodka|  12|       750|        $11.49|   $17.24|        12|206.88|\n",
            "|2014-11-13 00:00:00|             null| 2635|           82| Scott| 1031080|      80 PROOF VODKA|      297|   Laird And Company|35926|Five O'clock PET ...|  12|       750|         $3.37|    $5.06|        12| 60.72|\n",
            "|2014-11-13 00:00:00|             null| 2635|           82| Scott| 1031080|      80 PROOF VODKA|      434|      Luxco-St Louis|36301|Hawkeye Vodka 80 ...|  12|       500|         $3.73|    $5.60|         5|  28.0|\n",
            "|2014-11-13 00:00:00|             null| 2635|           82| Scott| 1031080|      80 PROOF VODKA|      300|Mccormick Distill...|36886|     Mccormick Vodka|  12|       750|         $3.31|    $4.97|        12| 59.64|\n",
            "|2014-11-13 00:00:00|             null| 2635|           82| Scott| 1031080|      80 PROOF VODKA|      300|Mccormick Distill...|36904| Mccormick Vodka Pet|  24|       375|         $1.80|    $2.70|        24|  64.8|\n",
            "|2014-11-13 00:00:00|             null| 2635|           82| Scott| 1031080|      80 PROOF VODKA|      300|Mccormick Distill...|36907| Mccormick Vodka PET|  12|      1000|         $4.13|    $6.20|        12|  74.4|\n",
            "|2014-11-13 00:00:00|             null| 2635|           82| Scott| 1031080|      80 PROOF VODKA|      421|    Sazerac Co. Inc.|36978|       Nikolai Vodka|   6|      1750|         $6.92|   $10.38|         6| 62.28|\n",
            "|2014-11-13 00:00:00|             null| 2635|           82| Scott| 1031080|      80 PROOF VODKA|      380|Phillips Beverage...|37356|Phillips Vodka Ez...|  12|       750|         $3.57|    $5.36|        12| 64.32|\n",
            "|2014-11-13 00:00:00|             null| 2635|           82| Scott| 1031080|      80 PROOF VODKA|      260|     Diageo Americas|37994|Smirnoff Vodka 80...|  24|       375|         $4.75|    $7.13|        24|171.12|\n",
            "+-------------------+-----------------+-----+-------------+------+--------+--------------------+---------+--------------------+-----+--------------------+----+----------+--------------+---------+----------+------+\n",
            "only showing top 20 rows\n",
            "\n"
          ],
          "name": "stdout"
        }
      ]
    },
    {
      "cell_type": "code",
      "metadata": {
        "colab": {
          "base_uri": "https://localhost:8080/"
        },
        "id": "FUIxJPJtF_92",
        "outputId": "6d2b3891-1985-4295-dee7-53e617e64359"
      },
      "source": [
        "df.printSchema()"
      ],
      "execution_count": null,
      "outputs": [
        {
          "output_type": "stream",
          "text": [
            "root\n",
            " |-- date: string (nullable = true)\n",
            " |-- convenience_store: string (nullable = true)\n",
            " |-- store: integer (nullable = true)\n",
            " |-- county_number: integer (nullable = true)\n",
            " |-- county: string (nullable = true)\n",
            " |-- category: integer (nullable = true)\n",
            " |-- category_name: string (nullable = true)\n",
            " |-- vendor_no: integer (nullable = true)\n",
            " |-- vendor: string (nullable = true)\n",
            " |-- item: integer (nullable = true)\n",
            " |-- description: string (nullable = true)\n",
            " |-- pack: integer (nullable = true)\n",
            " |-- liter_size: integer (nullable = true)\n",
            " |-- state_btl_cost: string (nullable = true)\n",
            " |-- btl_price: string (nullable = true)\n",
            " |-- bottle_qty: integer (nullable = true)\n",
            " |-- total: double (nullable = true)\n",
            "\n"
          ],
          "name": "stdout"
        }
      ]
    },
    {
      "cell_type": "code",
      "metadata": {
        "colab": {
          "base_uri": "https://localhost:8080/"
        },
        "id": "tAOfR9JaGGYv",
        "outputId": "3da2ac7d-a53d-4ba9-e755-d511064646ce"
      },
      "source": [
        "#Update the column name\n",
        "df = df.withColumnRenamed('county_number', 'county_no')\n",
        "df.printSchema()"
      ],
      "execution_count": null,
      "outputs": [
        {
          "output_type": "stream",
          "text": [
            "root\n",
            " |-- date: string (nullable = true)\n",
            " |-- convenience_store: string (nullable = true)\n",
            " |-- store: integer (nullable = true)\n",
            " |-- county_no: integer (nullable = true)\n",
            " |-- county: string (nullable = true)\n",
            " |-- category: integer (nullable = true)\n",
            " |-- category_name: string (nullable = true)\n",
            " |-- vendor_no: integer (nullable = true)\n",
            " |-- vendor: string (nullable = true)\n",
            " |-- item: integer (nullable = true)\n",
            " |-- description: string (nullable = true)\n",
            " |-- pack: integer (nullable = true)\n",
            " |-- liter_size: integer (nullable = true)\n",
            " |-- state_btl_cost: string (nullable = true)\n",
            " |-- btl_price: string (nullable = true)\n",
            " |-- bottle_qty: integer (nullable = true)\n",
            " |-- total: double (nullable = true)\n",
            "\n"
          ],
          "name": "stdout"
        }
      ]
    },
    {
      "cell_type": "code",
      "metadata": {
        "colab": {
          "base_uri": "https://localhost:8080/"
        },
        "id": "WAWWWuhBGO3N",
        "outputId": "b82d09d4-770f-468d-81e7-fe7cdcbbb2a6"
      },
      "source": [
        "#Update multiple column names\n",
        "df = df.withColumnRenamed(\"county_no\",\"CountryNo\").withColumnRenamed(\"liter_size\",\"LiterSize\")\n",
        "df.printSchema()"
      ],
      "execution_count": null,
      "outputs": [
        {
          "output_type": "stream",
          "text": [
            "root\n",
            " |-- date: string (nullable = true)\n",
            " |-- convenience_store: string (nullable = true)\n",
            " |-- store: integer (nullable = true)\n",
            " |-- CountryNo: integer (nullable = true)\n",
            " |-- county: string (nullable = true)\n",
            " |-- category: integer (nullable = true)\n",
            " |-- category_name: string (nullable = true)\n",
            " |-- vendor_no: integer (nullable = true)\n",
            " |-- vendor: string (nullable = true)\n",
            " |-- item: integer (nullable = true)\n",
            " |-- description: string (nullable = true)\n",
            " |-- pack: integer (nullable = true)\n",
            " |-- LiterSize: integer (nullable = true)\n",
            " |-- state_btl_cost: string (nullable = true)\n",
            " |-- btl_price: string (nullable = true)\n",
            " |-- bottle_qty: integer (nullable = true)\n",
            " |-- total: double (nullable = true)\n",
            "\n"
          ],
          "name": "stdout"
        }
      ]
    },
    {
      "cell_type": "code",
      "metadata": {
        "colab": {
          "base_uri": "https://localhost:8080/"
        },
        "id": "DqCqERnTGapJ",
        "outputId": "b4cc2cbf-4f54-4320-f18c-959c01228703"
      },
      "source": [
        "df.select(\"pack\").show(5)"
      ],
      "execution_count": null,
      "outputs": [
        {
          "output_type": "stream",
          "text": [
            "+----+\n",
            "|pack|\n",
            "+----+\n",
            "|  12|\n",
            "|  12|\n",
            "|  12|\n",
            "|   6|\n",
            "|  24|\n",
            "+----+\n",
            "only showing top 5 rows\n",
            "\n"
          ],
          "name": "stdout"
        }
      ]
    },
    {
      "cell_type": "code",
      "metadata": {
        "colab": {
          "base_uri": "https://localhost:8080/"
        },
        "id": "_fxNwmoWGR9Z",
        "outputId": "0ad33a1b-6733-4674-f7d7-8b28d0a2b966"
      },
      "source": [
        "#Update values of an Existing Column\n",
        "df = df.withColumn(\"pack\",(df.pack)*100)\n",
        "df.select(\"pack\").show(5)"
      ],
      "execution_count": null,
      "outputs": [
        {
          "output_type": "stream",
          "text": [
            "+----+\n",
            "|pack|\n",
            "+----+\n",
            "|1200|\n",
            "|1200|\n",
            "|1200|\n",
            "| 600|\n",
            "|2400|\n",
            "+----+\n",
            "only showing top 5 rows\n",
            "\n"
          ],
          "name": "stdout"
        }
      ]
    },
    {
      "cell_type": "code",
      "metadata": {
        "colab": {
          "base_uri": "https://localhost:8080/"
        },
        "id": "31ZNDieDGj0J",
        "outputId": "563bfda1-534f-4a11-99b5-0ac4118b33ff"
      },
      "source": [
        "df.printSchema()"
      ],
      "execution_count": null,
      "outputs": [
        {
          "output_type": "stream",
          "text": [
            "root\n",
            " |-- date: string (nullable = true)\n",
            " |-- convenience_store: string (nullable = true)\n",
            " |-- store: integer (nullable = true)\n",
            " |-- CountryNo: integer (nullable = true)\n",
            " |-- county: string (nullable = true)\n",
            " |-- category: integer (nullable = true)\n",
            " |-- category_name: string (nullable = true)\n",
            " |-- vendor_no: integer (nullable = true)\n",
            " |-- vendor: string (nullable = true)\n",
            " |-- item: integer (nullable = true)\n",
            " |-- description: string (nullable = true)\n",
            " |-- pack: integer (nullable = true)\n",
            " |-- LiterSize: integer (nullable = true)\n",
            " |-- state_btl_cost: string (nullable = true)\n",
            " |-- btl_price: string (nullable = true)\n",
            " |-- bottle_qty: integer (nullable = true)\n",
            " |-- total: double (nullable = true)\n",
            "\n"
          ],
          "name": "stdout"
        }
      ]
    },
    {
      "cell_type": "code",
      "metadata": {
        "colab": {
          "base_uri": "https://localhost:8080/"
        },
        "id": "RzR-kRyxGe0-",
        "outputId": "0c4a5751-20d1-447e-af2a-45ae4d92a66b"
      },
      "source": [
        "#Update the Column Data Type\n",
        "df = df.withColumn(\"convenience_store\",(df.convenience_store).cast(\"Integer\"))\n",
        "df.printSchema()"
      ],
      "execution_count": null,
      "outputs": [
        {
          "output_type": "stream",
          "text": [
            "root\n",
            " |-- date: string (nullable = true)\n",
            " |-- convenience_store: integer (nullable = true)\n",
            " |-- store: integer (nullable = true)\n",
            " |-- CountryNo: integer (nullable = true)\n",
            " |-- county: string (nullable = true)\n",
            " |-- category: integer (nullable = true)\n",
            " |-- category_name: string (nullable = true)\n",
            " |-- vendor_no: integer (nullable = true)\n",
            " |-- vendor: string (nullable = true)\n",
            " |-- item: integer (nullable = true)\n",
            " |-- description: string (nullable = true)\n",
            " |-- pack: integer (nullable = true)\n",
            " |-- LiterSize: integer (nullable = true)\n",
            " |-- state_btl_cost: string (nullable = true)\n",
            " |-- btl_price: string (nullable = true)\n",
            " |-- bottle_qty: integer (nullable = true)\n",
            " |-- total: double (nullable = true)\n",
            "\n"
          ],
          "name": "stdout"
        }
      ]
    },
    {
      "cell_type": "code",
      "metadata": {
        "colab": {
          "base_uri": "https://localhost:8080/"
        },
        "id": "ebOzYi8gGm3h",
        "outputId": "e6f37e6b-81e9-40b2-88cc-14040d6c8531"
      },
      "source": [
        "#Create new column by using data from existing column\n",
        "df = df.withColumn('pack_liter_size',df.pack * df.LiterSize)\n",
        "df.select(\"pack\",\"LiterSize\",\"pack_liter_size\").show(5)"
      ],
      "execution_count": null,
      "outputs": [
        {
          "output_type": "stream",
          "text": [
            "+----+---------+---------------+\n",
            "|pack|LiterSize|pack_liter_size|\n",
            "+----+---------+---------------+\n",
            "|1200|      750|         900000|\n",
            "|1200|      750|         900000|\n",
            "|1200|      750|         900000|\n",
            "| 600|      750|         450000|\n",
            "|2400|      200|         480000|\n",
            "+----+---------+---------------+\n",
            "only showing top 5 rows\n",
            "\n"
          ],
          "name": "stdout"
        }
      ]
    },
    {
      "cell_type": "code",
      "metadata": {
        "colab": {
          "base_uri": "https://localhost:8080/"
        },
        "id": "eEKoheDaHWc_",
        "outputId": "5823438b-e6e2-4d9a-a8b1-1b293ef383e0"
      },
      "source": [
        "#Split Column\n",
        "split_col = pyspark.sql.functions.split(df['date'], '-')\n",
        "df = df.withColumn('Year', split_col.getItem(0))\n",
        "df = df.withColumn('Month', split_col.getItem(1))\n",
        "df.select(\"date\",\"Year\",\"Month\").show(5)"
      ],
      "execution_count": null,
      "outputs": [
        {
          "output_type": "stream",
          "text": [
            "+-------------------+----+-----+\n",
            "|               date|Year|Month|\n",
            "+-------------------+----+-----+\n",
            "|2014-11-13 00:00:00|2014|   11|\n",
            "|2014-11-13 00:00:00|2014|   11|\n",
            "|2014-11-13 00:00:00|2014|   11|\n",
            "|2014-11-13 00:00:00|2014|   11|\n",
            "|2014-11-13 00:00:00|2014|   11|\n",
            "+-------------------+----+-----+\n",
            "only showing top 5 rows\n",
            "\n"
          ],
          "name": "stdout"
        }
      ]
    },
    {
      "cell_type": "code",
      "metadata": {
        "colab": {
          "base_uri": "https://localhost:8080/"
        },
        "id": "3nAzZMypHipk",
        "outputId": "810ca432-5d3b-46ba-80ac-ad6d7b6b9909"
      },
      "source": [
        "#Drop a column\n",
        "df = df.drop(\"pack_liter_size\")\n",
        "df.printSchema()"
      ],
      "execution_count": null,
      "outputs": [
        {
          "output_type": "stream",
          "text": [
            "root\n",
            " |-- date: string (nullable = true)\n",
            " |-- convenience_store: string (nullable = true)\n",
            " |-- store: integer (nullable = true)\n",
            " |-- county_number: integer (nullable = true)\n",
            " |-- county: string (nullable = true)\n",
            " |-- category: integer (nullable = true)\n",
            " |-- category_name: string (nullable = true)\n",
            " |-- vendor_no: integer (nullable = true)\n",
            " |-- vendor: string (nullable = true)\n",
            " |-- item: integer (nullable = true)\n",
            " |-- description: string (nullable = true)\n",
            " |-- pack: integer (nullable = true)\n",
            " |-- liter_size: integer (nullable = true)\n",
            " |-- state_btl_cost: string (nullable = true)\n",
            " |-- btl_price: string (nullable = true)\n",
            " |-- bottle_qty: integer (nullable = true)\n",
            " |-- total: double (nullable = true)\n",
            "\n"
          ],
          "name": "stdout"
        }
      ]
    }
  ]
}